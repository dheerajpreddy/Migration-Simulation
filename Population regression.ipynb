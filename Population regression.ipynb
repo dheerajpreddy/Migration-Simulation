{
 "cells": [
  {
   "cell_type": "markdown",
   "metadata": {},
   "source": [
    "# Testing Regression Models"
   ]
  },
  {
   "cell_type": "code",
   "execution_count": 1,
   "metadata": {},
   "outputs": [],
   "source": [
    "import pandas as pd\n",
    "from sklearn.model_selection import train_test_split, cross_val_score\n",
    "from sklearn.linear_model import LinearRegression, LogisticRegression\n",
    "from sklearn.ensemble import RandomForestRegressor, GradientBoostingRegressor\n",
    "from sklearn.metrics import mean_squared_error, mean_absolute_error\n",
    "import numpy as np"
   ]
  },
  {
   "cell_type": "markdown",
   "metadata": {},
   "source": [
    "Reading city data"
   ]
  },
  {
   "cell_type": "code",
   "execution_count": 49,
   "metadata": {},
   "outputs": [
    {
     "data": {
      "text/html": [
       "<div>\n",
       "<style scoped>\n",
       "    .dataframe tbody tr th:only-of-type {\n",
       "        vertical-align: middle;\n",
       "    }\n",
       "\n",
       "    .dataframe tbody tr th {\n",
       "        vertical-align: top;\n",
       "    }\n",
       "\n",
       "    .dataframe thead th {\n",
       "        text-align: right;\n",
       "    }\n",
       "</style>\n",
       "<table border=\"1\" class=\"dataframe\">\n",
       "  <thead>\n",
       "    <tr style=\"text-align: right;\">\n",
       "      <th></th>\n",
       "      <th>year</th>\n",
       "      <th>population</th>\n",
       "      <th>migration</th>\n",
       "      <th>education</th>\n",
       "      <th>health</th>\n",
       "      <th>safety</th>\n",
       "      <th>unemployment</th>\n",
       "      <th>housing</th>\n",
       "      <th>income</th>\n",
       "      <th>gdp</th>\n",
       "    </tr>\n",
       "  </thead>\n",
       "  <tbody>\n",
       "    <tr>\n",
       "      <th>0</th>\n",
       "      <td>2010</td>\n",
       "      <td>429410</td>\n",
       "      <td>16547</td>\n",
       "      <td>44.8</td>\n",
       "      <td>80.4</td>\n",
       "      <td>1071.63</td>\n",
       "      <td>10.3</td>\n",
       "      <td>152504</td>\n",
       "      <td>30688</td>\n",
       "      <td>52315</td>\n",
       "    </tr>\n",
       "    <tr>\n",
       "      <th>1</th>\n",
       "      <td>2011</td>\n",
       "      <td>437812</td>\n",
       "      <td>16850</td>\n",
       "      <td>47.2</td>\n",
       "      <td>78.8</td>\n",
       "      <td>1432.79</td>\n",
       "      <td>9.9</td>\n",
       "      <td>134362</td>\n",
       "      <td>33117</td>\n",
       "      <td>52808</td>\n",
       "    </tr>\n",
       "    <tr>\n",
       "      <th>2</th>\n",
       "      <td>2012</td>\n",
       "      <td>449016</td>\n",
       "      <td>20024</td>\n",
       "      <td>47.4</td>\n",
       "      <td>83.0</td>\n",
       "      <td>1379.05</td>\n",
       "      <td>8.8</td>\n",
       "      <td>131764</td>\n",
       "      <td>35829</td>\n",
       "      <td>52783</td>\n",
       "    </tr>\n",
       "    <tr>\n",
       "      <th>3</th>\n",
       "      <td>2013</td>\n",
       "      <td>453990</td>\n",
       "      <td>16294</td>\n",
       "      <td>48.4</td>\n",
       "      <td>82.8</td>\n",
       "      <td>1223.23</td>\n",
       "      <td>7.8</td>\n",
       "      <td>147272</td>\n",
       "      <td>36257</td>\n",
       "      <td>53217</td>\n",
       "    </tr>\n",
       "    <tr>\n",
       "      <th>4</th>\n",
       "      <td>2014</td>\n",
       "      <td>461154</td>\n",
       "      <td>19140</td>\n",
       "      <td>48.9</td>\n",
       "      <td>86.1</td>\n",
       "      <td>1227.43</td>\n",
       "      <td>6.7</td>\n",
       "      <td>165460</td>\n",
       "      <td>36936</td>\n",
       "      <td>54852</td>\n",
       "    </tr>\n",
       "    <tr>\n",
       "      <th>5</th>\n",
       "      <td>2015</td>\n",
       "      <td>468303</td>\n",
       "      <td>15962</td>\n",
       "      <td>48.3</td>\n",
       "      <td>88.9</td>\n",
       "      <td>1119.62</td>\n",
       "      <td>5.7</td>\n",
       "      <td>175916</td>\n",
       "      <td>39660</td>\n",
       "      <td>56590</td>\n",
       "    </tr>\n",
       "    <tr>\n",
       "      <th>6</th>\n",
       "      <td>2016</td>\n",
       "      <td>479174</td>\n",
       "      <td>23192</td>\n",
       "      <td>50.5</td>\n",
       "      <td>89.2</td>\n",
       "      <td>1083.63</td>\n",
       "      <td>5.1</td>\n",
       "      <td>187967</td>\n",
       "      <td>40882</td>\n",
       "      <td>58195</td>\n",
       "    </tr>\n",
       "    <tr>\n",
       "      <th>7</th>\n",
       "      <td>2017</td>\n",
       "      <td>491670</td>\n",
       "      <td>20051</td>\n",
       "      <td>49.2</td>\n",
       "      <td>89.5</td>\n",
       "      <td>935.72</td>\n",
       "      <td>4.5</td>\n",
       "      <td>202235</td>\n",
       "      <td>44690</td>\n",
       "      <td>59847</td>\n",
       "    </tr>\n",
       "    <tr>\n",
       "      <th>8</th>\n",
       "      <td>2018</td>\n",
       "      <td>498183</td>\n",
       "      <td>22481</td>\n",
       "      <td>53.4</td>\n",
       "      <td>89.8</td>\n",
       "      <td>768.79</td>\n",
       "      <td>3.8</td>\n",
       "      <td>221222</td>\n",
       "      <td>48869</td>\n",
       "      <td>61608</td>\n",
       "    </tr>\n",
       "    <tr>\n",
       "      <th>9</th>\n",
       "      <td>2019</td>\n",
       "      <td>506811</td>\n",
       "      <td>19052</td>\n",
       "      <td>56.5</td>\n",
       "      <td>90.4</td>\n",
       "      <td>770.30</td>\n",
       "      <td>3.2</td>\n",
       "      <td>235574</td>\n",
       "      <td>54414</td>\n",
       "      <td>61761</td>\n",
       "    </tr>\n",
       "  </tbody>\n",
       "</table>\n",
       "</div>"
      ],
      "text/plain": [
       "   year  population  migration  education  health   safety  unemployment  \\\n",
       "0  2010      429410      16547       44.8    80.4  1071.63          10.3   \n",
       "1  2011      437812      16850       47.2    78.8  1432.79           9.9   \n",
       "2  2012      449016      20024       47.4    83.0  1379.05           8.8   \n",
       "3  2013      453990      16294       48.4    82.8  1223.23           7.8   \n",
       "4  2014      461154      19140       48.9    86.1  1227.43           6.7   \n",
       "5  2015      468303      15962       48.3    88.9  1119.62           5.7   \n",
       "6  2016      479174      23192       50.5    89.2  1083.63           5.1   \n",
       "7  2017      491670      20051       49.2    89.5   935.72           4.5   \n",
       "8  2018      498183      22481       53.4    89.8   768.79           3.8   \n",
       "9  2019      506811      19052       56.5    90.4   770.30           3.2   \n",
       "\n",
       "   housing  income    gdp  \n",
       "0   152504   30688  52315  \n",
       "1   134362   33117  52808  \n",
       "2   131764   35829  52783  \n",
       "3   147272   36257  53217  \n",
       "4   165460   36936  54852  \n",
       "5   175916   39660  56590  \n",
       "6   187967   40882  58195  \n",
       "7   202235   44690  59847  \n",
       "8   221222   48869  61608  \n",
       "9   235574   54414  61761  "
      ]
     },
     "execution_count": 49,
     "metadata": {},
     "output_type": "execute_result"
    }
   ],
   "source": [
    "city_df = pd.read_csv(\"atlanta.csv\")\n",
    "# city_df.drop(city_df.tail(1).index,inplace=True)\n",
    "city_df"
   ]
  },
  {
   "cell_type": "code",
   "execution_count": 50,
   "metadata": {},
   "outputs": [
    {
     "data": {
      "text/plain": [
       "(10, 7)"
      ]
     },
     "execution_count": 50,
     "metadata": {},
     "output_type": "execute_result"
    }
   ],
   "source": [
    "# Our y (output from regression) is migration\n",
    "migration = city_df['population'].tolist()\n",
    "y = migration\n",
    "\n",
    "# The rest of the columns (except year, migration) are our factors to regress on\n",
    "city_df.drop(['migration', 'year', 'population'], axis=1, inplace=True)\n",
    "X = city_df.to_numpy()\n",
    "X.shape"
   ]
  },
  {
   "cell_type": "code",
   "execution_count": 51,
   "metadata": {},
   "outputs": [],
   "source": [
    "X_train, X_test, y_train, y_test = train_test_split(X, y, test_size=0.2)"
   ]
  },
  {
   "cell_type": "code",
   "execution_count": 52,
   "metadata": {},
   "outputs": [],
   "source": [
    "# Create model\n",
    "params = {'n_estimators':100, 'max_depth': 3}\n",
    "linreg = GradientBoostingRegressor(**params)\n",
    "# linreg = RandomForestRegressor(**params)\n",
    "\n",
    "# linreg = LinearRegression()\n",
    "# linreg = LogisticRegression()\n",
    "linreg.fit(X_train, y_train)\n",
    "\n",
    "# Calculate our y hat (how our model performs against the test data held off)\n",
    "y_hat_test = linreg.predict(X_test)"
   ]
  },
  {
   "cell_type": "code",
   "execution_count": 54,
   "metadata": {},
   "outputs": [
    {
     "name": "stdout",
     "output_type": "stream",
     "text": [
      "the test RMSE is:  3311.396411392649\n",
      "the test MAE is:  3300.710239736305\n"
     ]
    }
   ],
   "source": [
    "# See our Squared Mean Error score and Root Mean Squared Error:\n",
    "test_mse = mean_squared_error(y_test, y_hat_test)\n",
    "test_rmse = np.sqrt(test_mse)\n",
    "print(\"the test RMSE is: \", test_rmse)\n",
    "# See our Mean Absolute Error\n",
    "test_mae = mean_absolute_error(y_test, y_hat_test)\n",
    "print(\"the test MAE is: \", test_mae)"
   ]
  },
  {
   "cell_type": "code",
   "execution_count": 55,
   "metadata": {},
   "outputs": [],
   "source": [
    "cv_3_results = cross_val_score(linreg, X, y, cv=3, scoring=\"neg_mean_absolute_error\")"
   ]
  },
  {
   "cell_type": "code",
   "execution_count": 56,
   "metadata": {},
   "outputs": [
    {
     "data": {
      "text/plain": [
       "array([-19765.80023071,  -2132.55038223, -19839.59635257])"
      ]
     },
     "execution_count": 56,
     "metadata": {},
     "output_type": "execute_result"
    }
   ],
   "source": [
    "cv_3_results"
   ]
  },
  {
   "cell_type": "code",
   "execution_count": 84,
   "metadata": {},
   "outputs": [],
   "source": [
    "X_2019 = [[56.5, 90.4, 770.30, 3.2, 235574, 54414, 61761]]\n",
    "X_pandemic = [[56.5, 70, 770.30, 3.2, 235574, 54414, 61761]]\n",
    "X_economic = [[56.5, 90.4, 770.30, 6.2, 235574, 44414, 51761]]\n",
    "X_safety = [[56.5, 90.4, 500, 3.2, 235574, 54414, 61761]]\n",
    "X_education = [[80.5, 90.4, 770.30, 3.2, 235574, 54414, 61761]]"
   ]
  },
  {
   "cell_type": "code",
   "execution_count": 85,
   "metadata": {},
   "outputs": [
    {
     "data": {
      "text/plain": [
       "array([506810.01628531])"
      ]
     },
     "execution_count": 85,
     "metadata": {},
     "output_type": "execute_result"
    }
   ],
   "source": [
    "linreg.predict(X_education)"
   ]
  },
  {
   "cell_type": "code",
   "execution_count": null,
   "metadata": {},
   "outputs": [],
   "source": []
  }
 ],
 "metadata": {
  "kernelspec": {
   "display_name": "Python 3",
   "language": "python",
   "name": "python3"
  },
  "language_info": {
   "codemirror_mode": {
    "name": "ipython",
    "version": 3
   },
   "file_extension": ".py",
   "mimetype": "text/x-python",
   "name": "python",
   "nbconvert_exporter": "python",
   "pygments_lexer": "ipython3",
   "version": "3.8.6"
  }
 },
 "nbformat": 4,
 "nbformat_minor": 4
}
