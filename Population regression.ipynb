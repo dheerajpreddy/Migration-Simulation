{
 "cells": [
  {
   "cell_type": "markdown",
   "metadata": {},
   "source": [
    "# Testing Regression Models"
   ]
  },
  {
   "cell_type": "code",
   "execution_count": 1,
   "metadata": {},
   "outputs": [],
   "source": [
    "import pandas as pd\n",
    "from sklearn.model_selection import train_test_split, cross_val_score\n",
    "from sklearn.linear_model import LinearRegression, LogisticRegression\n",
    "from sklearn.ensemble import RandomForestRegressor, GradientBoostingRegressor\n",
    "from sklearn.metrics import mean_squared_error, mean_absolute_error\n",
    "import numpy as np"
   ]
  },
  {
   "cell_type": "markdown",
   "metadata": {},
   "source": [
    "Reading city data"
   ]
  },
  {
   "cell_type": "code",
   "execution_count": 2,
   "metadata": {},
   "outputs": [
    {
     "data": {
      "text/html": [
       "<div>\n",
       "<style scoped>\n",
       "    .dataframe tbody tr th:only-of-type {\n",
       "        vertical-align: middle;\n",
       "    }\n",
       "\n",
       "    .dataframe tbody tr th {\n",
       "        vertical-align: top;\n",
       "    }\n",
       "\n",
       "    .dataframe thead th {\n",
       "        text-align: right;\n",
       "    }\n",
       "</style>\n",
       "<table border=\"1\" class=\"dataframe\">\n",
       "  <thead>\n",
       "    <tr style=\"text-align: right;\">\n",
       "      <th></th>\n",
       "      <th>year</th>\n",
       "      <th>population</th>\n",
       "      <th>migration</th>\n",
       "      <th>education</th>\n",
       "      <th>health</th>\n",
       "      <th>safety</th>\n",
       "      <th>unemployment</th>\n",
       "      <th>housing</th>\n",
       "      <th>income</th>\n",
       "      <th>gdp</th>\n",
       "    </tr>\n",
       "  </thead>\n",
       "  <tbody>\n",
       "    <tr>\n",
       "      <th>0</th>\n",
       "      <td>2010</td>\n",
       "      <td>8190209</td>\n",
       "      <td>123294</td>\n",
       "      <td>33.4</td>\n",
       "      <td>85.2</td>\n",
       "      <td>581.68</td>\n",
       "      <td>8.9</td>\n",
       "      <td>400006</td>\n",
       "      <td>29326</td>\n",
       "      <td>71022</td>\n",
       "    </tr>\n",
       "    <tr>\n",
       "      <th>1</th>\n",
       "      <td>2011</td>\n",
       "      <td>8272948</td>\n",
       "      <td>128350</td>\n",
       "      <td>34.1</td>\n",
       "      <td>85.4</td>\n",
       "      <td>623.60</td>\n",
       "      <td>8.6</td>\n",
       "      <td>386463</td>\n",
       "      <td>30200</td>\n",
       "      <td>70586</td>\n",
       "    </tr>\n",
       "    <tr>\n",
       "      <th>2</th>\n",
       "      <td>2012</td>\n",
       "      <td>8346693</td>\n",
       "      <td>127917</td>\n",
       "      <td>34.7</td>\n",
       "      <td>86.2</td>\n",
       "      <td>639.29</td>\n",
       "      <td>8.7</td>\n",
       "      <td>373526</td>\n",
       "      <td>30730</td>\n",
       "      <td>73181</td>\n",
       "    </tr>\n",
       "    <tr>\n",
       "      <th>3</th>\n",
       "      <td>2013</td>\n",
       "      <td>8396091</td>\n",
       "      <td>121249</td>\n",
       "      <td>35.7</td>\n",
       "      <td>86.6</td>\n",
       "      <td>623.91</td>\n",
       "      <td>7.6</td>\n",
       "      <td>382238</td>\n",
       "      <td>32540</td>\n",
       "      <td>73335</td>\n",
       "    </tr>\n",
       "    <tr>\n",
       "      <th>4</th>\n",
       "      <td>2014</td>\n",
       "      <td>8433806</td>\n",
       "      <td>124068</td>\n",
       "      <td>35.9</td>\n",
       "      <td>88.6</td>\n",
       "      <td>596.70</td>\n",
       "      <td>6.5</td>\n",
       "      <td>400567</td>\n",
       "      <td>32910</td>\n",
       "      <td>74159</td>\n",
       "    </tr>\n",
       "    <tr>\n",
       "      <th>5</th>\n",
       "      <td>2015</td>\n",
       "      <td>8463049</td>\n",
       "      <td>118088</td>\n",
       "      <td>36.8</td>\n",
       "      <td>90.7</td>\n",
       "      <td>585.77</td>\n",
       "      <td>5.3</td>\n",
       "      <td>411400</td>\n",
       "      <td>34396</td>\n",
       "      <td>75541</td>\n",
       "    </tr>\n",
       "    <tr>\n",
       "      <th>6</th>\n",
       "      <td>2016</td>\n",
       "      <td>8463153</td>\n",
       "      <td>114709</td>\n",
       "      <td>37.0</td>\n",
       "      <td>92.2</td>\n",
       "      <td>573.42</td>\n",
       "      <td>4.8</td>\n",
       "      <td>423722</td>\n",
       "      <td>35508</td>\n",
       "      <td>76961</td>\n",
       "    </tr>\n",
       "    <tr>\n",
       "      <th>7</th>\n",
       "      <td>2017</td>\n",
       "      <td>8437478</td>\n",
       "      <td>125478</td>\n",
       "      <td>37.3</td>\n",
       "      <td>92.8</td>\n",
       "      <td>538.90</td>\n",
       "      <td>4.5</td>\n",
       "      <td>443741</td>\n",
       "      <td>37447</td>\n",
       "      <td>78245</td>\n",
       "    </tr>\n",
       "    <tr>\n",
       "      <th>8</th>\n",
       "      <td>2018</td>\n",
       "      <td>8390081</td>\n",
       "      <td>110624</td>\n",
       "      <td>39.0</td>\n",
       "      <td>92.8</td>\n",
       "      <td>541.03</td>\n",
       "      <td>4.0</td>\n",
       "      <td>467823</td>\n",
       "      <td>39589</td>\n",
       "      <td>80712</td>\n",
       "    </tr>\n",
       "    <tr>\n",
       "      <th>9</th>\n",
       "      <td>2019</td>\n",
       "      <td>8336817</td>\n",
       "      <td>121898</td>\n",
       "      <td>39.2</td>\n",
       "      <td>93.1</td>\n",
       "      <td>570.72</td>\n",
       "      <td>3.7</td>\n",
       "      <td>478920</td>\n",
       "      <td>43046</td>\n",
       "      <td>81903</td>\n",
       "    </tr>\n",
       "  </tbody>\n",
       "</table>\n",
       "</div>"
      ],
      "text/plain": [
       "   year  population  migration  education  health  safety  unemployment  \\\n",
       "0  2010     8190209     123294       33.4    85.2  581.68           8.9   \n",
       "1  2011     8272948     128350       34.1    85.4  623.60           8.6   \n",
       "2  2012     8346693     127917       34.7    86.2  639.29           8.7   \n",
       "3  2013     8396091     121249       35.7    86.6  623.91           7.6   \n",
       "4  2014     8433806     124068       35.9    88.6  596.70           6.5   \n",
       "5  2015     8463049     118088       36.8    90.7  585.77           5.3   \n",
       "6  2016     8463153     114709       37.0    92.2  573.42           4.8   \n",
       "7  2017     8437478     125478       37.3    92.8  538.90           4.5   \n",
       "8  2018     8390081     110624       39.0    92.8  541.03           4.0   \n",
       "9  2019     8336817     121898       39.2    93.1  570.72           3.7   \n",
       "\n",
       "   housing  income    gdp  \n",
       "0   400006   29326  71022  \n",
       "1   386463   30200  70586  \n",
       "2   373526   30730  73181  \n",
       "3   382238   32540  73335  \n",
       "4   400567   32910  74159  \n",
       "5   411400   34396  75541  \n",
       "6   423722   35508  76961  \n",
       "7   443741   37447  78245  \n",
       "8   467823   39589  80712  \n",
       "9   478920   43046  81903  "
      ]
     },
     "execution_count": 2,
     "metadata": {},
     "output_type": "execute_result"
    }
   ],
   "source": [
    "city_df = pd.read_csv(\"nyc.csv\")\n",
    "# city_df.drop(city_df.tail(1).index,inplace=True)\n",
    "city_df"
   ]
  },
  {
   "cell_type": "code",
   "execution_count": 3,
   "metadata": {},
   "outputs": [
    {
     "data": {
      "text/plain": [
       "(10, 7)"
      ]
     },
     "execution_count": 3,
     "metadata": {},
     "output_type": "execute_result"
    }
   ],
   "source": [
    "# Our y (output from regression) is migration\n",
    "migration = city_df['population'].tolist()\n",
    "y = migration\n",
    "\n",
    "# The rest of the columns (except year, migration) are our factors to regress on\n",
    "city_df.drop(['migration', 'year', 'population'], axis=1, inplace=True)\n",
    "X = city_df.to_numpy()\n",
    "X.shape"
   ]
  },
  {
   "cell_type": "code",
   "execution_count": 4,
   "metadata": {},
   "outputs": [],
   "source": [
    "X_train, X_test, y_train, y_test = train_test_split(X, y, test_size=0.2)"
   ]
  },
  {
   "cell_type": "code",
   "execution_count": 5,
   "metadata": {},
   "outputs": [],
   "source": [
    "# Create model\n",
    "params = {'n_estimators':100, 'max_depth': 3}\n",
    "linreg = GradientBoostingRegressor(**params)\n",
    "# linreg = RandomForestRegressor(**params)\n",
    "\n",
    "# linreg = LinearRegression()\n",
    "# linreg = LogisticRegression()\n",
    "linreg.fit(X_train, y_train)\n",
    "\n",
    "# Calculate our y hat (how our model performs against the test data held off)\n",
    "y_hat_test = linreg.predict(X_test)"
   ]
  },
  {
   "cell_type": "code",
   "execution_count": 6,
   "metadata": {},
   "outputs": [
    {
     "name": "stdout",
     "output_type": "stream",
     "text": [
      "the test RMSE is:  68913.52349060177\n",
      "the test MAE is:  54510.56174091296\n"
     ]
    }
   ],
   "source": [
    "# See our Squared Mean Error score and Root Mean Squared Error:\n",
    "test_mse = mean_squared_error(y_test, y_hat_test)\n",
    "test_rmse = np.sqrt(test_mse)\n",
    "print(\"the test RMSE is: \", test_rmse)\n",
    "# See our Mean Absolute Error\n",
    "test_mae = mean_absolute_error(y_test, y_hat_test)\n",
    "print(\"the test MAE is: \", test_mae)"
   ]
  },
  {
   "cell_type": "code",
   "execution_count": 7,
   "metadata": {},
   "outputs": [],
   "source": [
    "cv_3_results = cross_val_score(linreg, X, y, cv=3, scoring=\"neg_mean_absolute_error\")"
   ]
  },
  {
   "cell_type": "code",
   "execution_count": 8,
   "metadata": {},
   "outputs": [
    {
     "data": {
      "text/plain": [
       "array([-133215.11651366,  -61239.20330087,  -75024.17839813])"
      ]
     },
     "execution_count": 8,
     "metadata": {},
     "output_type": "execute_result"
    }
   ],
   "source": [
    "cv_3_results"
   ]
  },
  {
   "cell_type": "code",
   "execution_count": 22,
   "metadata": {},
   "outputs": [],
   "source": [
    "# ATL_X_2019 = [[56.5, 90.4, 770.30, 3.2, 235574, 54414, 61761]]\n",
    "# ATL_X_pandemic = [[56.5, 70, 770.30, 3.2, 235574, 54414, 61761]]\n",
    "# ATL_X_economic = [[56.5, 90.4, 770.30, 6.2, 235574, 44414, 51761]]\n",
    "# ATL_X_safety = [[56.5, 90.4, 500, 3.2, 235574, 54414, 61761]]\n",
    "# ATL_X_education = [[80.5, 90.4, 770.30, 3.2, 235574, 54414, 61761]]\n",
    "NYC_X_2019 = [[39.2, 93.1, 570.72, 3.7, 478920, 43046, 81903]]\n",
    "NYC_X_pandemic = [[39.2, 70, 570.72, 3.7, 478920, 43046, 81903]]\n",
    "NYC_X_economic = [[39.2, 93.1, 570.72, 6.7, 478920, 33046, 71903]]\n",
    "NYC_X_safety = [[39.2, 93.1, 370.72, 3.7, 478920, 43046, 81903]]\n",
    "NYC_X_education = [[59.2, 93.1, 570.72, 3.7, 478920, 43046, 81903]]"
   ]
  },
  {
   "cell_type": "code",
   "execution_count": 25,
   "metadata": {},
   "outputs": [
    {
     "data": {
      "text/plain": [
       "array([8337071.51139307])"
      ]
     },
     "execution_count": 25,
     "metadata": {},
     "output_type": "execute_result"
    }
   ],
   "source": [
    "linreg.predict(NYC_X_safety)"
   ]
  },
  {
   "cell_type": "code",
   "execution_count": null,
   "metadata": {},
   "outputs": [],
   "source": []
  }
 ],
 "metadata": {
  "kernelspec": {
   "display_name": "Python 3",
   "language": "python",
   "name": "python3"
  },
  "language_info": {
   "codemirror_mode": {
    "name": "ipython",
    "version": 3
   },
   "file_extension": ".py",
   "mimetype": "text/x-python",
   "name": "python",
   "nbconvert_exporter": "python",
   "pygments_lexer": "ipython3",
   "version": "3.8.6"
  }
 },
 "nbformat": 4,
 "nbformat_minor": 4
}
