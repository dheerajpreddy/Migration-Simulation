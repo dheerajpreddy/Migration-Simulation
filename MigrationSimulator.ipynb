{
 "cells": [
  {
   "cell_type": "markdown",
   "metadata": {
    "id": "CDIKFvUbH2Nc"
   },
   "source": [
    "# Cellular automata + Regression #"
   ]
  },
  {
   "cell_type": "markdown",
   "metadata": {},
   "source": [
    "Inspired by professor's game of life and forest fire ipynb"
   ]
  },
  {
   "cell_type": "code",
   "execution_count": 1,
   "metadata": {
    "colab": {
     "base_uri": "https://localhost:8080/"
    },
    "id": "ZGKLqGOEH2Nd",
    "outputId": "47240149-208a-48e3-a55e-fd779d407d2c"
   },
   "outputs": [
    {
     "name": "stdout",
     "output_type": "stream",
     "text": [
      "Numpy version 1.17.3\n",
      "Matplotlib version 3.3.1\n"
     ]
    }
   ],
   "source": [
    "import numpy as np\n",
    "import scipy as sp\n",
    "import scipy.sparse\n",
    "\n",
    "print(\"Numpy version {}\".format(np.__version__))\n",
    "\n",
    "import matplotlib as mpl\n",
    "import matplotlib.pyplot as plt # Core plotting support\n",
    "print(\"Matplotlib version {}\".format(mpl.__version__))"
   ]
  },
  {
   "cell_type": "markdown",
   "metadata": {
    "id": "vNSAJxeaH2Ne"
   },
   "source": [
    "## Setup\n",
    "\n",
    "These first few cells walk through the core building blocks of the simulation:\n",
    "\n",
    "* `create_world(n, q)`: Returns a new \"world\" of size `(n+2)`-by-`(n+2)`, where the probability that any cell initially contains a living tree is `q`. The extra padding on the boundaries is initialized to \"empty\" (0 values), and is there to simplify some of the subsequent array indexing and slicing.\n",
    "\n",
    "* `show_world(W)`: Creates a \"heat map\" of the current world. The assumed states of each cell are \"dead\" (0) and \"alive\" (1)."
   ]
  },
  {
   "cell_type": "code",
   "execution_count": 2,
   "metadata": {
    "colab": {
     "base_uri": "https://localhost:8080/",
     "height": 675
    },
    "id": "BUsiPotMH2Nf",
    "outputId": "085f0da8-e4d0-4576-f1f9-bbcfdcb3f07a"
   },
   "outputs": [
    {
     "name": "stdout",
     "output_type": "stream",
     "text": [
      "The world is 50 x 50 in size (excluding padded boundaries).\n",
      "The city is 20 x 20 in size (excluding padded boundaries).\n",
      "In the world, 227 cells are alive, the remaining 2273 are not.\n",
      "In the city boundaries, 94 cells are alive\n"
     ]
    },
    {
     "data": {
      "image/png": "[encoded data removed]",
      "text/plain": [
       "<Figure size 576x576 with 2 Axes>"
      ]
     },
     "metadata": {
      "needs_background": "light"
     },
     "output_type": "display_data"
    }
   ],
   "source": [
    "def empty_world(x, n=None):\n",
    "    from numpy import ndarray\n",
    "    if isinstance(x, ndarray):\n",
    "        return np.zeros(x.shape)\n",
    "    m = x\n",
    "    if n is None:\n",
    "        n = m\n",
    "    return np.zeros((m+2, n+2))\n",
    "\n",
    "def interior(W, dx=0, dy=0):\n",
    "    m, n = W.shape\n",
    "    return W[(1+dy):(m-1+dy), (1+dx):(n-1+dx)]\n",
    "\n",
    "def get_city(W):\n",
    "    return W[20:40, 20:40]\n",
    "    \n",
    "def create_world(n, q):\n",
    "    World = empty_world(n)\n",
    "    Interior = interior(World)\n",
    "    Interior[:, :] = np.random.choice([0, 1], p=[1-q, q], size=(n, n))\n",
    "    return World\n",
    "\n",
    "def create_special_world(n, q1, q2):\n",
    "    World = empty_world(n)\n",
    "    Interior = interior(World)\n",
    "    Interior[:, :] = np.random.choice([0, 1], p=[1-q1, q1], size=(n, n))\n",
    "    city_area = create_world(18, q2)\n",
    "    World[15:35,15:35] = city_area\n",
    "    return World\n",
    "\n",
    "def is_dead(W):\n",
    "    return W == 0\n",
    "\n",
    "def is_alive(W):\n",
    "    return W == 1\n",
    "\n",
    "def count(W, cond_fun):\n",
    "    return cond_fun(W).sum()\n",
    "\n",
    "def summarize_world(W):\n",
    "    m, n = W.shape[0]-2, W.shape[1]-2\n",
    "    n_alive = count(interior(W), is_alive)\n",
    "    n_dead = count(interior(W), is_dead)\n",
    "    n_alive_city = count(get_city(W), is_alive)\n",
    "    n_dead_city = count(get_city(W), is_dead)\n",
    "    print(f\"The world is {m} x {n} in size (excluding padded boundaries).\")\n",
    "    print(f\"The city is {20} x {20} in size (excluding padded boundaries).\")\n",
    "    print(f\"In the world, {n_alive} cells are alive, the remaining {n_dead} are not.\")\n",
    "    print(f\"In the city boundaries, {n_alive_city} cells are alive\")\n",
    "\n",
    "def show_world(W, title=None, save=False, t_step=0, **args):\n",
    "    if 'cmap' not in args:\n",
    "        args['cmap'] = 'jet'\n",
    "    if 'vmin' not in args and 'vmax' not in args:\n",
    "        args['vmin'] = 0\n",
    "        args['vmax'] = 3\n",
    "    plt.figure(figsize=(8, 8))\n",
    "    plt.matshow(W, fignum=1, **args)\n",
    "    plt.xlabel('column')\n",
    "    plt.ylabel('row')\n",
    "    plt.colorbar()\n",
    "    if title is None:\n",
    "        m, n = W.shape[0]-2, W.shape[1]-2\n",
    "        n_alive = count(interior(W), is_alive)\n",
    "        n_dead = count(interior(W), is_dead)\n",
    "        n_alive_city = count(get_city(W), is_alive)\n",
    "        n_dead_city = count(get_city(W), is_dead)\n",
    "        percent_alive = n_alive / (n_alive + n_dead) * 1e2\n",
    "        title = f'Overall field: {50} x {50}: {n_alive} alive, {n_dead} empty\\nCity boundary: {20} x {20}: {n_alive_city} alive, {n_dead_city} empty'\n",
    "    plt.title(title)\n",
    "    \n",
    "    if save is not False:\n",
    "        plt.savefig(save + str(t_step) + \".png\")\n",
    "    pass\n",
    "\n",
    "# Demo:\n",
    "# Create world with outskirts population probability of 0.1\n",
    "# World = create_world(50, 0.05)\n",
    "# city_area = create_world(18, 0.4)\n",
    "# summarize_world(World)\n",
    "# World[20:40,20:40] = city_area\n",
    "# summarize_world(city_area)\n",
    "World = create_special_world(50, 0.05, 0.4)\n",
    "summarize_world(World)\n",
    "show_world(World, save=\"outputs/atlanta/\", t_step=0)"
   ]
  },
  {
   "cell_type": "code",
   "execution_count": 3,
   "metadata": {
    "colab": {
     "base_uri": "https://localhost:8080/",
     "height": 675
    },
    "id": "rnULuMT-H2Nf",
    "outputId": "17384c9d-0aca-4c37-c7b5-89b1a5a2fc83"
   },
   "outputs": [],
   "source": [
    "def count_neighbors(W, exclude_center=False):\n",
    "    C = empty_world(W)\n",
    "    C_int = interior(C)\n",
    "    for dx in range(-1, 2):\n",
    "        for dy in range(-1, 2):\n",
    "            if exclude_center and (dx, dy) == (0, 0):\n",
    "                continue\n",
    "            C_int += interior(W, dx=dx, dy=dy)\n",
    "    return C\n",
    "\n",
    "def move_person(W, old_coords, new_coords):\n",
    "    try:\n",
    "        W[old_coords[0], old_coords[1]] = 0\n",
    "    except:\n",
    "        return\n",
    "    try:\n",
    "        W[new_coords[0], new_coords[1]] = 1\n",
    "    except:\n",
    "        # Undo previous delete\n",
    "        W[old_coords[0], old_coords[1]] = 1\n",
    "        return\n",
    "    \n",
    "def move_x(W, old_coords, x_dist, y_dist):\n",
    "    # Move in x direction, and then y direction if preferred x field is empty\n",
    "    idx_x, idx_y = old_coords\n",
    "    if x_dist<0 and W[idx_x-1, idx_y]==0:\n",
    "        # Move up\n",
    "        move_person(W, (idx_x, idx_y), (idx_x-1, idx_y))\n",
    "    elif x_dist>0 and W[idx_x+1, idx_y]==0:\n",
    "        # Move down\n",
    "        move_person(W, (idx_x, idx_y), (idx_x+1, idx_y))\n",
    "    elif y_dist>0 and W[idx_x, idx_y+1]==0:\n",
    "        # Move right\n",
    "        move_person(W, (idx_x, idx_y), (idx_x, idx_y+1))\n",
    "    elif y_dist<0 and W[idx_x, idx_y-1]==0:\n",
    "        # Move left\n",
    "        move_person(W, (idx_x, idx_y), (idx_x, idx_y-1))\n",
    "        \n",
    "def move_y(W, old_coords, x_dist, y_dist):\n",
    "    # Move in y direction, and then x direction if preferred x field is empty\n",
    "    idx_x, idx_y = old_coords\n",
    "    if y_dist>0 and W[idx_x, idx_y+1]==0:\n",
    "        # Move right\n",
    "        move_person(W, (idx_x, idx_y), (idx_x, idx_y+1))\n",
    "    elif y_dist<0 and W[idx_x, idx_y-1]==0:\n",
    "        # Move left\n",
    "        move_person(W, (idx_x, idx_y), (idx_x, idx_y-1))\n",
    "    elif x_dist<0 and W[idx_x-1, idx_y]==0:\n",
    "        # Move up\n",
    "        move_person(W, (idx_x, idx_y), (idx_x-1, idx_y))\n",
    "    elif x_dist>0 and W[idx_x+1, idx_y]==0:\n",
    "        # Move down\n",
    "        move_person(W, (idx_x, idx_y), (idx_x+1, idx_y))\n",
    "\n",
    "def neg_move_x(W, old_coords, x_dist, y_dist):\n",
    "    # Move in x direction, and then y direction if preferred x field is empty\n",
    "    idx_x, idx_y = old_coords\n",
    "    if x_dist>0 and W[idx_x-1, idx_y]==0:\n",
    "        # Move up\n",
    "        move_person(W, (idx_x, idx_y), (idx_x-1, idx_y))\n",
    "    elif x_dist<0 and W[idx_x+1, idx_y]==0:\n",
    "        # Move down\n",
    "        move_person(W, (idx_x, idx_y), (idx_x+1, idx_y))\n",
    "    elif y_dist<0 and W[idx_x, idx_y+1]==0:\n",
    "        # Move right\n",
    "        move_person(W, (idx_x, idx_y), (idx_x, idx_y+1))\n",
    "    elif y_dist>0 and W[idx_x, idx_y-1]==0:\n",
    "        # Move left\n",
    "        move_person(W, (idx_x, idx_y), (idx_x, idx_y-1))\n",
    "        \n",
    "def neg_move_y(W, old_coords, x_dist, y_dist):\n",
    "    # Move in y direction, and then x direction if preferred x field is empty\n",
    "    idx_x, idx_y = old_coords\n",
    "    if y_dist<0 and W[idx_x, idx_y+1]==0:\n",
    "        # Move right\n",
    "        move_person(W, (idx_x, idx_y), (idx_x, idx_y+1))\n",
    "    elif y_dist>0 and W[idx_x, idx_y-1]==0:\n",
    "        # Move left\n",
    "        move_person(W, (idx_x, idx_y), (idx_x, idx_y-1))\n",
    "    elif x_dist>0 and W[idx_x-1, idx_y]==0:\n",
    "        # Move up\n",
    "        move_person(W, (idx_x, idx_y), (idx_x-1, idx_y))\n",
    "    elif x_dist<0 and W[idx_x+1, idx_y]==0:\n",
    "        # Move down\n",
    "        move_person(W, (idx_x, idx_y), (idx_x+1, idx_y))\n",
    "        \n",
    "def determine_movement(W, W_move_chance, old_coords):\n",
    "    # check neighbours and if majority want to move then move.\n",
    "    # Count only votes of alive neighbours, not dead ones. \n",
    "    # If no alive neighbours, do whatever current coord wants to do\n",
    "    \n",
    "    x, y = old_coords\n",
    "    total_votes = 1\n",
    "    alive_neighours = []\n",
    "    neighbour_indices = [(x-1, y), (x, y-1), (x-1, y-1), (x+1, y), (x, y+1), (x+1, y+1), (x-1, y+1), (x+1, y-1)]\n",
    "    vote_count = W_move_chance[x,y]\n",
    "    \n",
    "    # First check how many neighours there are\n",
    "    for idx in neighbour_indices:\n",
    "        try:\n",
    "            if W[idx[0], idx[1]]==1:\n",
    "                total_votes += 1\n",
    "                vote_count += W_move_chance[idx[0], idx[1]]\n",
    "        except:\n",
    "            continue\n",
    "    \n",
    "    vote_pct = float(vote_count)/total_votes\n",
    "    if vote_pct >= 0.5:\n",
    "        return True\n",
    "    else:\n",
    "        return False\n",
    "\n",
    "\n",
    "def evolve(W):\n",
    "    W_new = W.copy()\n",
    "    Alive = is_alive(W)\n",
    "    Dead = is_dead(W)\n",
    "    N = count_neighbors(W, exclude_center=True) # living neighbors\n",
    "    max_neighbours = 8 # no deaths occur at max_neighbours=8\n",
    "    W_new_int = interior(W_new)\n",
    "    N_int = interior(N)\n",
    "    birth_chance = np.random.choice(2, 10000, p=[0.9999, 0.0001])\n",
    "    \n",
    "    positive_growth = True\n",
    "    growth_rate = 0.017 # derived from our regression model\n",
    "    \n",
    "    if positive_growth:\n",
    "        move_chance = np.random.choice(2, 1000, p =[1-4*growth_rate, 4*growth_rate])\n",
    "    else:\n",
    "        move_chance = np.random.choice(2, 1000, p =[1-2*growth_rate, 2*growth_rate])\n",
    "    \n",
    "    # Deleting all cells with more than max_neighbours neighbours\n",
    "    W_new_int[:, :] = (interior(Alive) & (N_int <= max_neighbours))\n",
    "    \n",
    "    # Introducing birth on the outer rim with a probability distribution\n",
    "    dead_idx_x, dead_idx_y = np.where(W_new==0)\n",
    "    for idx in range(len(dead_idx_x)):\n",
    "        idx_x = dead_idx_x[idx]\n",
    "        idx_y = dead_idx_y[idx]\n",
    "        if idx_x<20 or idx_x>40 or idx_y<20 or idx_y>40:\n",
    "            # 10% of empty cells get filled\n",
    "            W_new[idx_x, idx_y] = np.random.choice(birth_chance)\n",
    "        else:\n",
    "            # dont generate random new people inside city\n",
    "            continue\n",
    "    \n",
    "    # Find all alive cells' index\n",
    "    alive_idx_x, alive_idx_y = np.where(W_new==1)\n",
    "    \n",
    "    # determine likelihood to move based on city parameters\n",
    "    W_move_chance = np.zeros(W_new.shape)\n",
    "    for idx in range(len(alive_idx_x)):\n",
    "        W_move_chance[alive_idx_x[idx], alive_idx_y[idx]] = np.random.choice(move_chance)\n",
    "    \n",
    "    # Looping through all alive cells to push them towards the center\n",
    "    for idx in range(len(alive_idx_x)):\n",
    "        idx_x = alive_idx_x[idx]\n",
    "        idx_y = alive_idx_y[idx]\n",
    "        \n",
    "        # Relative y distance from center. If negative, move left. Else, move right. \n",
    "        y_dist = (25-idx_y)\n",
    "        \n",
    "        # Relative x distance from center. If negative, move up. Else, move down. \n",
    "        x_dist = (25-idx_x)\n",
    "        \n",
    "        # Total distance needed to move\n",
    "        tot_dist = abs(y_dist) + abs(x_dist)\n",
    "        if tot_dist == 0:\n",
    "            continue\n",
    "        \n",
    "        should_i_move = determine_movement((W_new), W_move_chance, (idx_x, idx_y)) # probability distribution from neighbours + regression analysis over here\n",
    "        \n",
    "        # can either move along x or y axis. Move along x axis if choice is 0, else along y axis\n",
    "        # Move which direction? Will move nowhere if both directions towards center are blocked\n",
    "        choice = np.random.choice(np.random.choice(2, 1000, p=[abs(x_dist)/tot_dist, abs(y_dist)/tot_dist]))\n",
    "\n",
    "        if should_i_move:\n",
    "            if choice==0:\n",
    "                if positive_growth:\n",
    "                    move_x(W_new, (idx_x, idx_y), x_dist, y_dist)\n",
    "                else:\n",
    "                    neg_move_x(W_new, (idx_x, idx_y), x_dist, y_dist)\n",
    "            else:\n",
    "                if positive_growth:\n",
    "                    move_y(W_new, (idx_x, idx_y), x_dist, y_dist)\n",
    "                else:\n",
    "                    neg_move_y(W_new, (idx_x, idx_y), x_dist, y_dist)\n",
    "    \n",
    "    return W_new\n",
    "\n",
    "# Demo:\n",
    "# World_next = evolve(World)\n",
    "# show_world(World_next)\n",
    "# summarize_world(World_next)"
   ]
  },
  {
   "cell_type": "markdown",
   "metadata": {
    "id": "qn74_is9H2Ng"
   },
   "source": [
    "Here is one more time step, for debugging or illustrative purposes."
   ]
  },
  {
   "cell_type": "code",
   "execution_count": 5,
   "metadata": {
    "colab": {
     "base_uri": "https://localhost:8080/",
     "height": 675
    },
    "id": "ABt9xqSRH2Ng",
    "outputId": "dbdffb20-b81b-4ab1-dc3e-9467652a3325"
   },
   "outputs": [],
   "source": [
    "# World_next = evolve(World_next)\n",
    "# show_world(World_next)\n",
    "# summarize_world(World_next)"
   ]
  },
  {
   "cell_type": "markdown",
   "metadata": {
    "id": "MO7NjSb3H2Ng"
   },
   "source": [
    "## Simulator\n",
    "\n",
    "The core simulator is `run(W0[, t_max, inplace=False])`, which simulates the propagation of fire beginning from an initial world, `W0`. By default, the simulator stops when the world reaches a steady-state configuration. It returns all time steps if `inplace` is `False` (also the default)."
   ]
  },
  {
   "cell_type": "code",
   "execution_count": 6,
   "metadata": {
    "colab": {
     "base_uri": "https://localhost:8080/",
     "height": 692
    },
    "id": "Kgdbh1tJH2Ng",
    "outputId": "551e58dd-3413-4a88-bd50-5cac0ad63df7"
   },
   "outputs": [],
   "source": [
    "# Some test code:\n",
    "def run(W0, t_max=50, inplace=False):\n",
    "    if t_max is None:\n",
    "        n_max = max(W0.shape)\n",
    "        t_max = n_max * ((2*n_max-1) // 2)\n",
    "    W = np.zeros((W0.shape[0], W0.shape[1], 2 if inplace else t_max+1))\n",
    "    t_cur = 0\n",
    "    W[:, :, t_cur] = W0\n",
    "    for t in range(t_max):\n",
    "        t_next = (t_cur+1)%2 if inplace else t+1\n",
    "        W[:, :, t_next] = evolve(W[:, :, t_cur])\n",
    "        if (W[:, :, t_cur] == W[:, :, t_next]).all():\n",
    "            t_cur = t_next\n",
    "            break\n",
    "        t_cur = t_next\n",
    "    return (W[:, :, t_cur], t) if inplace else W[:, :, :t_cur+1]\n",
    "    \n",
    "def viz(W, t=0):\n",
    "    show_world(W[:, :, t], save=\"outputs/atlanta/\", t_step=t)\n",
    "    plt.show()\n",
    "    print(\"At time {} (max={})...\".format(t, W.shape[2]-1))\n",
    "    summarize_world(W[:, :, t])\n",
    "    \n",
    "def sim(n, q1, q2, **args):\n",
    "    return run(create_special_world(n, q1, q2), **args)"
   ]
  },
  {
   "cell_type": "markdown",
   "metadata": {
    "id": "gYfiuMw6H2Nh"
   },
   "source": [
    "Here is an example that runs the entire simulation and then displays an interactive widget that allows you to look at each time step."
   ]
  },
  {
   "cell_type": "code",
   "execution_count": 7,
   "metadata": {
    "colab": {
     "base_uri": "https://localhost:8080/",
     "height": 724,
     "referenced_widgets": [
      "3b789b1eca0349519d0515f406a859aa",
      "5398228e917a457fbe7c432481546637",
      "0b768f27aace48548a4133fd561ef70e",
      "cbedb9c66c0042e2bc3de98368f197ab",
      "5345cf92dceb4a33a2a2e278987f6486",
      "0f111c08eb894adf8430e67cf3e18efa",
      "393c1fdcde6f4f468b05e64941157d59"
     ]
    },
    "id": "IAl7tXNAH2Nh",
    "outputId": "17b41632-7ae8-415a-cdda-e0a9093dc805",
    "scrolled": false
   },
   "outputs": [
    {
     "data": {
      "application/vnd.jupyter.widget-view+json": {
       "model_id": "831bc2946e344935bfad7724dabb0ae0",
       "version_major": 2,
       "version_minor": 0
      },
      "text/plain": [
       "interactive(children=(IntSlider(value=0, description='t', max=50), Output()), _dom_classes=('widget-interact',…"
      ]
     },
     "metadata": {},
     "output_type": "display_data"
    }
   ],
   "source": [
    "from ipywidgets import interact, IntSlider\n",
    "\n",
    "def iviz(t=0):\n",
    "    viz(W, t);\n",
    "    \n",
    "# W = sim(50, 0.5)\n",
    "# W = sim(50, 0.1)\n",
    "W = sim(50, 0.05, 0.4)\n",
    "# city_area = create_world(18, 0.2)\n",
    "# summarize_world(World)\n",
    "# W[20:40,20:40,0] = city_area\n",
    "interact(iviz, t=IntSlider(min=0, max=W.shape[2]-1, step=1, value=0, continuous_update=True));"
   ]
  }
 ],
 "metadata": {
  "colab": {
   "name": "ca2d-gol.ipynb",
   "provenance": []
  },
  "kernelspec": {
   "display_name": "Python 3",
   "language": "python",
   "name": "python3"
  },
  "language_info": {
   "codemirror_mode": {
    "name": "ipython",
    "version": 3
   },
   "file_extension": ".py",
   "mimetype": "text/x-python",
   "name": "python",
   "nbconvert_exporter": "python",
   "pygments_lexer": "ipython3",
   "version": "3.8.6"
  },
  "widgets": {
   "application/vnd.jupyter.widget-state+json": {
    "0b768f27aace48548a4133fd561ef70e": {
     "model_module": "@jupyter-widgets/controls",
     "model_name": "IntSliderModel",
     "state": {
      "_dom_classes": [],
      "_model_module": "@jupyter-widgets/controls",
      "_model_module_version": "1.5.0",
      "_model_name": "IntSliderModel",
      "_view_count": null,
      "_view_module": "@jupyter-widgets/controls",
      "_view_module_version": "1.5.0",
      "_view_name": "IntSliderView",
      "continuous_update": false,
      "description": "t",
      "description_tooltip": null,
      "disabled": false,
      "layout": "IPY_MODEL_0f111c08eb894adf8430e67cf3e18efa",
      "max": 2652,
      "min": 0,
      "orientation": "horizontal",
      "readout": true,
      "readout_format": "d",
      "step": 1,
      "style": "IPY_MODEL_5345cf92dceb4a33a2a2e278987f6486",
      "value": 1961
     }
    },
    "0f111c08eb894adf8430e67cf3e18efa": {
     "model_module": "@jupyter-widgets/base",
     "model_name": "LayoutModel",
     "state": {
      "_model_module": "@jupyter-widgets/base",
      "_model_module_version": "1.2.0",
      "_model_name": "LayoutModel",
      "_view_count": null,
      "_view_module": "@jupyter-widgets/base",
      "_view_module_version": "1.2.0",
      "_view_name": "LayoutView",
      "align_content": null,
      "align_items": null,
      "align_self": null,
      "border": null,
      "bottom": null,
      "display": null,
      "flex": null,
      "flex_flow": null,
      "grid_area": null,
      "grid_auto_columns": null,
      "grid_auto_flow": null,
      "grid_auto_rows": null,
      "grid_column": null,
      "grid_gap": null,
      "grid_row": null,
      "grid_template_areas": null,
      "grid_template_columns": null,
      "grid_template_rows": null,
      "height": null,
      "justify_content": null,
      "justify_items": null,
      "left": null,
      "margin": null,
      "max_height": null,
      "max_width": null,
      "min_height": null,
      "min_width": null,
      "object_fit": null,
      "object_position": null,
      "order": null,
      "overflow": null,
      "overflow_x": null,
      "overflow_y": null,
      "padding": null,
      "right": null,
      "top": null,
      "visibility": null,
      "width": null
     }
    },
    "393c1fdcde6f4f468b05e64941157d59": {
     "model_module": "@jupyter-widgets/base",
     "model_name": "LayoutModel",
     "state": {
      "_model_module": "@jupyter-widgets/base",
      "_model_module_version": "1.2.0",
      "_model_name": "LayoutModel",
      "_view_count": null,
      "_view_module": "@jupyter-widgets/base",
      "_view_module_version": "1.2.0",
      "_view_name": "LayoutView",
      "align_content": null,
      "align_items": null,
      "align_self": null,
      "border": null,
      "bottom": null,
      "display": null,
      "flex": null,
      "flex_flow": null,
      "grid_area": null,
      "grid_auto_columns": null,
      "grid_auto_flow": null,
      "grid_auto_rows": null,
      "grid_column": null,
      "grid_gap": null,
      "grid_row": null,
      "grid_template_areas": null,
      "grid_template_columns": null,
      "grid_template_rows": null,
      "height": null,
      "justify_content": null,
      "justify_items": null,
      "left": null,
      "margin": null,
      "max_height": null,
      "max_width": null,
      "min_height": null,
      "min_width": null,
      "object_fit": null,
      "object_position": null,
      "order": null,
      "overflow": null,
      "overflow_x": null,
      "overflow_y": null,
      "padding": null,
      "right": null,
      "top": null,
      "visibility": null,
      "width": null
     }
    },
    "3b789b1eca0349519d0515f406a859aa": {
     "model_module": "@jupyter-widgets/controls",
     "model_name": "VBoxModel",
     "state": {
      "_dom_classes": [
       "widget-interact"
      ],
      "_model_module": "@jupyter-widgets/controls",
      "_model_module_version": "1.5.0",
      "_model_name": "VBoxModel",
      "_view_count": null,
      "_view_module": "@jupyter-widgets/controls",
      "_view_module_version": "1.5.0",
      "_view_name": "VBoxView",
      "box_style": "",
      "children": [
       "IPY_MODEL_0b768f27aace48548a4133fd561ef70e",
       "IPY_MODEL_cbedb9c66c0042e2bc3de98368f197ab"
      ],
      "layout": "IPY_MODEL_5398228e917a457fbe7c432481546637"
     }
    },
    "5345cf92dceb4a33a2a2e278987f6486": {
     "model_module": "@jupyter-widgets/controls",
     "model_name": "SliderStyleModel",
     "state": {
      "_model_module": "@jupyter-widgets/controls",
      "_model_module_version": "1.5.0",
      "_model_name": "SliderStyleModel",
      "_view_count": null,
      "_view_module": "@jupyter-widgets/base",
      "_view_module_version": "1.2.0",
      "_view_name": "StyleView",
      "description_width": "",
      "handle_color": null
     }
    },
    "5398228e917a457fbe7c432481546637": {
     "model_module": "@jupyter-widgets/base",
     "model_name": "LayoutModel",
     "state": {
      "_model_module": "@jupyter-widgets/base",
      "_model_module_version": "1.2.0",
      "_model_name": "LayoutModel",
      "_view_count": null,
      "_view_module": "@jupyter-widgets/base",
      "_view_module_version": "1.2.0",
      "_view_name": "LayoutView",
      "align_content": null,
      "align_items": null,
      "align_self": null,
      "border": null,
      "bottom": null,
      "display": null,
      "flex": null,
      "flex_flow": null,
      "grid_area": null,
      "grid_auto_columns": null,
      "grid_auto_flow": null,
      "grid_auto_rows": null,
      "grid_column": null,
      "grid_gap": null,
      "grid_row": null,
      "grid_template_areas": null,
      "grid_template_columns": null,
      "grid_template_rows": null,
      "height": null,
      "justify_content": null,
      "justify_items": null,
      "left": null,
      "margin": null,
      "max_height": null,
      "max_width": null,
      "min_height": null,
      "min_width": null,
      "object_fit": null,
      "object_position": null,
      "order": null,
      "overflow": null,
      "overflow_x": null,
      "overflow_y": null,
      "padding": null,
      "right": null,
      "top": null,
      "visibility": null,
      "width": null
     }
    },
    "cbedb9c66c0042e2bc3de98368f197ab": {
     "model_module": "@jupyter-widgets/output",
     "model_name": "OutputModel",
     "state": {
      "_dom_classes": [],
      "_model_module": "@jupyter-widgets/output",
      "_model_module_version": "1.0.0",
      "_model_name": "OutputModel",
      "_view_count": null,
      "_view_module": "@jupyter-widgets/output",
      "_view_module_version": "1.0.0",
      "_view_name": "OutputView",
      "layout": "IPY_MODEL_393c1fdcde6f4f468b05e64941157d59",
      "msg_id": "",
      "outputs": [
       {
        "image/png": "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\n",
        "metadata": {
         "needs_background": "light",
         "tags": []
        },
        "output_type": "display_data",
        "text/plain": "<Figure size 576x576 with 2 Axes>"
       },
       {
        "metadata": {
         "tags": []
        },
        "output_type": "stream",
        "stream": "stdout",
        "text": "At time 1961 (max=2652)...\nThe world is 50 x 50 in size (excluding padded boundaries).\n69 cells are alive, the remaining 2431 are not.\n"
       }
      ]
     }
    }
   }
  }
 },
 "nbformat": 4,
 "nbformat_minor": 1
}
